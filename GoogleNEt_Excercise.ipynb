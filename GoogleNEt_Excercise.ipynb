{
  "nbformat": 4,
  "nbformat_minor": 0,
  "metadata": {
    "colab": {
      "provenance": [],
      "gpuType": "T4",
      "include_colab_link": true
    },
    "kernelspec": {
      "name": "python3",
      "display_name": "Python 3"
    },
    "language_info": {
      "name": "python"
    },
    "accelerator": "GPU"
  },
  "cells": [
    {
      "cell_type": "markdown",
      "metadata": {
        "id": "view-in-github",
        "colab_type": "text"
      },
      "source": [
        "<a href=\"https://colab.research.google.com/github/MentalCoder91/test/blob/main/GoogleNEt_Excercise.ipynb\" target=\"_parent\"><img src=\"https://colab.research.google.com/assets/colab-badge.svg\" alt=\"Open In Colab\"/></a>"
      ]
    },
    {
      "cell_type": "markdown",
      "source": [
        "### **Excercise**\n",
        "(Connect to T4 GPU)\n",
        "\n",
        "Implement GoogleNet architecture for image classification on the CIFAR-10 dataset.\n"
      ],
      "metadata": {
        "id": "0jIr1B_9Xrfx"
      }
    },
    {
      "cell_type": "code",
      "execution_count": 7,
      "metadata": {
        "id": "Vnm8J38livdZ"
      },
      "outputs": [],
      "source": [
        "#import the Libraries\n",
        "import tensorflow as tf\n",
        "from tensorflow.keras.datasets import cifar10\n",
        "from tensorflow.keras.utils import to_categorical\n",
        "from tensorflow.keras.models import Model\n",
        "from tensorflow.keras.layers import Input, Dense, Conv2D, MaxPooling2D, GlobalAveragePooling2D, Concatenate, Dropout, Flatten"
      ]
    },
    {
      "cell_type": "markdown",
      "source": [
        "The CIFAR-10 dataset is a widely used benchmark dataset in the field of computer vision. It consists of 60,000 32x32 color images in 10 classes, with 6,000 images per class. The classes are: airplane, automobile, bird, cat, deer, dog, frog, horse, ship, and truck. It's often used for tasks such as object recognition, image classification, and machine learning algorithm evaluation.\n",
        "\n",
        "Link : https://www.cs.toronto.edu/~kriz/cifar.html"
      ],
      "metadata": {
        "id": "Qu7KJefuYwKs"
      }
    },
    {
      "cell_type": "code",
      "source": [
        "# Load CIFAR-10 dataset\n",
        "(x_train, y_train), (x_test, y_test) = cifar10.load_data()\n",
        "\n",
        "\n",
        "x_train = x_train.astype('float32') / 255.0\n",
        "x_test = x_test.astype('float32') / 255.0\n",
        "\n",
        "# Convert class vectors to binary class matrices (one-hot encoding)\n",
        "num_classes = 10\n",
        "y_train = to_categorical(y_train, num_classes)\n",
        "y_test = to_categorical(y_test, num_classes)\n",
        "\n",
        "\n",
        "\n"
      ],
      "metadata": {
        "id": "OMpv-4G-j4eX"
      },
      "execution_count": 15,
      "outputs": []
    },
    {
      "cell_type": "code",
      "source": [
        "# Define the Inception module\n",
        "def inception_module(x, filters):\n",
        "    # 1x1 convolutional layer with [0] filters, kernel size (1x1), padding, and ReLU activation\n",
        "     conv1x1 = Conv2D(filters=filters[0], kernel_size=(1, 1), padding='same', activation='relu')(x)\n",
        "    # 3x3 convolutional layer with [1] filters, kernel size (3x3), padding, and ReLU activation\n",
        "     conv3x3 = Conv2D(filters=filters[1], kernel_size=(3, 3), padding='same', activation='relu')(x)\n",
        "    # 5x5 convolutional layer [2] filters, kernel size (5x5), padding, and ReLU activation\n",
        "     conv5x5 = Conv2D(filters=filters[2], kernel_size=(5, 5), padding='same', activation='relu')(x)\n",
        "    # Max pooling layer with specified pool size (3x3), strides (1x1), and padding\n",
        "     max_pool_conv = MaxPooling2D(pool_size=(3, 3), strides=(1, 1), padding='same')(x)\n",
        "    # 1x1 convolutional layer applied after max pooling, with [3] filters, kernel size (1x1), padding, and ReLU activation\n",
        "     conv1x11 = Conv2D(filters=filters[3], kernel_size=(1, 1), padding='same', activation='relu')(x)\n",
        "    # Concatenate the outputs of all convolutional operations along the last axis\n",
        "     output = Concatenate(axis=-1)([conv1x1, conv3x3, conv5x5, max_pool_conv])\n",
        "     return output\n",
        "\n",
        "# Define the GoogleNet architecture\n",
        "def google_net(input_shape, num_classes):\n",
        "    # Input layer with specified input shape\n",
        "    inputs = Input(shape=input_shape)\n",
        "    # Initial convolutional layer with 64 filters, kernel size (7x7), strides (2x2), padding, and ReLU activation\n",
        "    x = Conv2D(filters=64, kernel_size=(7, 7), strides=(2, 2), padding='same', activation='relu')(inputs)\n",
        "    # Max pooling layer with pool size (3x3), strides (2x2), and padding\n",
        "    x = MaxPooling2D(pool_size=(3, 3), strides=(2, 2), padding='same')(x)\n",
        "    # First Inception module with [64, 128, 32, 32] filters for each convolutional operation\n",
        "    x = inception_module(x, filters=[64, 128, 32, 32])\n",
        "    # Second Inception module with [128, 192, 96, 64] filters for each convolutional operation\n",
        "    x = inception_module(x, filters=[128, 192, 96, 64])\n",
        "    # Max pooling layer with pool size (3x3), strides (2x2), and padding\n",
        "    x = MaxPooling2D(pool_size=(3, 3), strides=(2, 2), padding='same')(x)\n",
        "    # Third Inception module with [192, 208, 48, 64] filters for each convolutional operation\n",
        "    x = inception_module(x, filters=[192, 208, 48, 64])\n",
        "    # Fourth Inception module with [160, 224, 64, 64] filters for each convolutional operation\n",
        "    x = inception_module(x, filters=[160, 224, 64, 64])\n",
        "    # Global average pooling layer\n",
        "    x = GlobalAveragePooling2D()(x)\n",
        "    # Dropout layer with dropout rate of 0.4\n",
        "    x = Dropout(0.4)(x)\n",
        "    # Output layer with specified number of classes and softmax activation\n",
        "    outputs = Dense(num_classes, activation='softmax')(x)\n",
        "    # Create the model with specified inputs and outputs\n",
        "    model = tf.keras.Model(inputs, outputs)\n",
        "    return model\n"
      ],
      "metadata": {
        "id": "KG3FMRU5lNE8"
      },
      "execution_count": 21,
      "outputs": []
    },
    {
      "cell_type": "code",
      "source": [
        "input_shape = x_train.shape[1:]\n",
        "input_shape"
      ],
      "metadata": {
        "id": "T8VUUyivRtGX",
        "outputId": "a1db8dcd-7e7c-4c49-f513-15febd9c79fd",
        "colab": {
          "base_uri": "https://localhost:8080/"
        }
      },
      "execution_count": 22,
      "outputs": [
        {
          "output_type": "execute_result",
          "data": {
            "text/plain": [
              "(32, 32, 3)"
            ]
          },
          "metadata": {},
          "execution_count": 22
        }
      ]
    },
    {
      "cell_type": "code",
      "source": [
        "# Create and compile the model\n",
        "input_shape = x_train.shape[1:]\n",
        "num_classes = 10\n",
        "model = google_net(input_shape, num_classes)\n",
        "#Compile the model with optimizer='adam', loss='sparse_categorical_crossentropy', metrics=['accuracy']\n",
        "model.compile(optimizer='adam', loss='categorical_crossentropy', metrics=['accuracy'])"
      ],
      "metadata": {
        "id": "GxWpp1OxkCeU"
      },
      "execution_count": 23,
      "outputs": []
    },
    {
      "cell_type": "code",
      "source": [
        "# Train the model with epochs=5, steps_per_epoch = 800,batch_size=32\n",
        "model.fit(x_train, y_train, batch_size=32, epochs=5, validation_data=(x_test, y_test), steps_per_epoch=800)\n"
      ],
      "metadata": {
        "colab": {
          "base_uri": "https://localhost:8080/"
        },
        "id": "I3NwPdhEkF1W",
        "outputId": "edfbb98b-7b39-4e3e-f51a-6c8180301ed9"
      },
      "execution_count": 24,
      "outputs": [
        {
          "output_type": "stream",
          "name": "stdout",
          "text": [
            "Epoch 1/5\n",
            "800/800 [==============================] - 29s 28ms/step - loss: 1.7864 - accuracy: 0.3254 - val_loss: 1.4807 - val_accuracy: 0.4502\n",
            "Epoch 2/5\n",
            "800/800 [==============================] - 22s 27ms/step - loss: 1.4147 - accuracy: 0.4791 - val_loss: 1.2757 - val_accuracy: 0.5317\n",
            "Epoch 3/5\n",
            "800/800 [==============================] - 23s 29ms/step - loss: 1.2555 - accuracy: 0.5464 - val_loss: 1.1944 - val_accuracy: 0.5736\n",
            "Epoch 4/5\n",
            "800/800 [==============================] - 24s 29ms/step - loss: 1.1698 - accuracy: 0.5802 - val_loss: 1.1034 - val_accuracy: 0.6096\n",
            "Epoch 5/5\n",
            "800/800 [==============================] - 24s 29ms/step - loss: 1.0718 - accuracy: 0.6157 - val_loss: 1.0120 - val_accuracy: 0.6476\n"
          ]
        },
        {
          "output_type": "execute_result",
          "data": {
            "text/plain": [
              "<keras.src.callbacks.History at 0x7ba8ee8213c0>"
            ]
          },
          "metadata": {},
          "execution_count": 24
        }
      ]
    },
    {
      "cell_type": "code",
      "source": [
        "# Evaluate the model\n",
        "test_loss, test_acc = model.evaluate(x_test, y_test)\n",
        "print('Test accuracy:', test_acc)\n",
        "print('Test loss:', test_loss)"
      ],
      "metadata": {
        "colab": {
          "base_uri": "https://localhost:8080/"
        },
        "id": "PqDsDIxslm6F",
        "outputId": "c1c0e9d4-2790-4736-8e27-942bb214ebf0"
      },
      "execution_count": 25,
      "outputs": [
        {
          "output_type": "stream",
          "name": "stdout",
          "text": [
            "313/313 [==============================] - 3s 10ms/step - loss: 1.0120 - accuracy: 0.6476\n",
            "Test accuracy: 0.647599995136261\n",
            "Test loss: 1.0120049715042114\n"
          ]
        }
      ]
    },
    {
      "cell_type": "markdown",
      "source": [
        "### \"Wishing you all the best on your learning journey! May each challenge be a stepping stone to your success. Happy coding!\""
      ],
      "metadata": {
        "id": "riaHRoBAt6nV"
      }
    }
  ]
}